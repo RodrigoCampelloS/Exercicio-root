{
 "cells": [
  {
   "cell_type": "code",
   "execution_count": 3,
   "metadata": {},
   "outputs": [],
   "source": [
    "#include <string>\n",
    "void exercicio2()\n",
    "{\n",
    "TGraph* gr = new TGraph(\"graphdata.txt\"); //Criando Tgraph já com os pontos do graphdata.txt\n",
    "TCanvas *c1=new TCanvas();\n",
    "   c1->Draw();\n",
    "   gr->SetLineColor(2); //Mudando a cor da linha\n",
    "   gr->SetLineWidth(4); //Mudando a espessura da linha\n",
    "   gr->SetMarkerColor(3); //Mudando a cor dos pontos\n",
    "   gr->SetMarkerSize(1.5); //Mudando a grossura dos pontos\n",
    "   gr->SetMarkerStyle(21); //Mudando os pontos para serem representados por uma caixa\n",
    "   gr->SetTitle(\"Exercicio 2\");//Mudando o Título do histograma\n",
    "   gr->GetXaxis()->SetTitle(\"X\");//Mudando titulo no eixo X para \"X\"\n",
    "   gr->GetYaxis()->SetTitle(\"Y\");//Mudando titulo no eixo X para \"X\"\n",
    "   gr->Draw();\n",
    "}"
   ]
  },
  {
   "cell_type": "code",
   "execution_count": null,
   "metadata": {},
   "outputs": [],
   "source": []
  }
 ],
 "metadata": {
  "kernelspec": {
   "display_name": "ROOT C++",
   "language": "c++",
   "name": "root"
  },
  "language_info": {
   "codemirror_mode": "text/x-c++src",
   "file_extension": ".C",
   "mimetype": " text/x-c++src",
   "name": "c++"
  },
  "toc-autonumbering": false,
  "toc-showmarkdowntxt": false,
  "toc-showtags": false
 },
 "nbformat": 4,
 "nbformat_minor": 4
}
