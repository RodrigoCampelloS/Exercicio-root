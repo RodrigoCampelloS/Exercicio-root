{
 "cells": [
  {
   "cell_type": "code",
   "execution_count": 5,
   "metadata": {},
   "outputs": [],
   "source": [
    "void exercicio3()\n",
    "{\n",
    "TF1 *gaus = new TF1(\"gaus\",\"TMath::Gaus(x,5,2)\",0,10); //Criando a função de gaus que será utilizada para preencher o histograma\n",
    "TH1F h(\"h\",\"Histograma\",50,0,10); //Criando histograma\n",
    "h.FillRandom(\"gaus\",10000);  // Preenchendo histograma\n",
    "h.GetXaxis()->SetTitle(\"X\"); //Mudando titulo do eixo X\n",
    "h.GetYaxis()->SetTitle(\"Y\");// Mudando titulo do eixo Y\n",
    "gStyle->SetOptStat(\"nmeri\"); // Mudando a caixa de estatísticas, cada letra corresponde a uma modificação\n",
    "h.DrawCopy(); //desenhando uma cópia do histograma h\n",
    "}"
   ]
  },
  {
   "cell_type": "code",
   "execution_count": null,
   "metadata": {},
   "outputs": [],
   "source": []
  }
 ],
 "metadata": {
  "kernelspec": {
   "display_name": "ROOT C++",
   "language": "c++",
   "name": "root"
  },
  "language_info": {
   "codemirror_mode": "text/x-c++src",
   "file_extension": ".C",
   "mimetype": " text/x-c++src",
   "name": "c++"
  }
 },
 "nbformat": 4,
 "nbformat_minor": 4
}
