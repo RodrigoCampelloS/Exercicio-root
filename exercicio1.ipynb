{
 "cells": [
  {
   "cell_type": "code",
   "execution_count": 6,
   "metadata": {
    "tags": []
   },
   "outputs": [
    {
     "name": "stderr",
     "output_type": "stream",
     "text": [
      "\u001b[1minput_line_54:10:19: \u001b[0m\u001b[0;1;31merror: \u001b[0m\u001b[1mfunction definition is not allowed here\u001b[0m\n",
      " void exercicio1(){\n",
      "\u001b[0;1;32m                  ^\n",
      "\u001b[0m"
     ]
    }
   ],
   "source": [
    "#include <sstream>\n",
    "const char* ConvertDoubleToString(double value){ //criando função que converte double para const char que será utilizada no código\n",
    "    std::stringstream ss ;\n",
    "    ss << value;\n",
    "    const char* str = ss.str().c_str();\n",
    "    return str;\n",
    "}\n",
    "\n",
    "void exercicio1(){\n",
    "\n",
    "TF1 *f1 = new TF1(\"f1\",\"sin(x)/x\",0,10); //Criando primeiro TF1 \n",
    "\n",
    "TF1 *f2 = new TF1(\"f2\",\"[0]*sin([1]*x)/x\",-5,5); //Criando segundo TF1\n",
    "\n",
    "//Definindo e nomeando parametros da segunda função\n",
    "f2->SetParameter(0,2); //definindo o primeiro parametro da segunda função \n",
    "f2->SetParameter(1,4); //definindo o segundo parametro da segunda função\n",
    "f2->SetParName(0,\"P0\");//nomeando o primeiro parametro da segunda função como \"P2\"\n",
    "f2->SetParName(1,\"P1\");//nomeando o segundo parametro da segunda função como \"P1\"\n",
    "\n",
    "//Mudanças cosméticas \n",
    "f2->SetLineColor(4); //Mudando a cor da segunda função para azul\n",
    "f1->GetXaxis()->SetTitle(\"X\"); //Inserindo titulo no eixo X para \"X\"\n",
    "f1->GetYaxis()->SetTitle(\"Y\");//Inserindo titulo no eixo Y para \"Y\"\n",
    "\n",
    "\n",
    "//Inicialização dos canvas\n",
    "TCanvas *c1=new TCanvas();\n",
    "f1->Draw();\n",
    "TCanvas *c2=new TCanvas();\n",
    "f2->Draw();\n",
    "\n",
    "//Iniciando variaveis v1,v2,v3 que serão utilizadas para guardar os resultados das perguntas 1.1;1.2;1.3 deste exercício\n",
    "double v1 = 0.0;\n",
    "double v2 = 0.0;\n",
    "double v3 = 0.0;\n",
    "\n",
    "//Redefinindo os parametros \n",
    "f2->SetParameter(0,1);\n",
    "f2->SetParameter(1,2);\n",
    "\n",
    "//calculando o que foi pedido no exercício\n",
    "v1=f2->Eval(1); // Calculando da função para x=1\n",
    "v2=f2->Derivative(1); // Calculando a derivada da função para X=1\n",
    "v3=f2->Integral(0.0,3.0); // calculando a integral da função entre 0 e 3\n",
    "\n",
    "//Criando e preenchendo a legenda\n",
    "auto* legend = new TLegend(0.9, 0.9, .9, .9);\n",
    "legend->SetNColumns(2); // Definindo número de colunas na legenda\n",
    "legend->SetHeader(\"Para P0=1 e P1=2; temos:\",\"C\"); // Definindo título da legenda\n",
    "legend->AddEntry((TObject*)0, \"Valor da funcao para x=1 :\", \"\");\n",
    "legend->AddEntry((TObject*)0, ConvertDoubleToString(v1), \"\"); //Usando a função ConvertDoubleToString definida anteriormente para converter v1 para const char\n",
    "legend->AddEntry((TObject*)0, \"Derivada de funcao para x=1:\", \"\");\n",
    "legend->AddEntry((TObject*)0, ConvertDoubleToString(v2), \"\"); //Usando a função ConvertDoubleToString definida anteriormente para converter v2 para const char\n",
    "legend->AddEntry((TObject*)0, \"integral da funcao entre 0 e 3\", \"\");\n",
    "legend->AddEntry((TObject*)0, ConvertDoubleToString(v3), \"\"); //Usando a função ConvertDoubleToString definida anteriormente para converter v3 para const char\n",
    "\n",
    "legend->Draw();\n",
    "f2->GetXaxis()->SetTitle(\"X\");//Inserindo titulo no eixo X para \"X\"\n",
    "f2->GetYaxis()->SetTitle(\"Y\");//Inserindo titulo no eixo Y para \"Y\"\n",
    "\n",
    "\n",
    "}\n"
   ]
  },
  {
   "cell_type": "code",
   "execution_count": null,
   "metadata": {},
   "outputs": [],
   "source": []
  }
 ],
 "metadata": {
  "kernelspec": {
   "display_name": "ROOT C++",
   "language": "c++",
   "name": "root"
  },
  "language_info": {
   "codemirror_mode": "text/x-c++src",
   "file_extension": ".C",
   "mimetype": " text/x-c++src",
   "name": "c++"
  }
 },
 "nbformat": 4,
 "nbformat_minor": 4
}
