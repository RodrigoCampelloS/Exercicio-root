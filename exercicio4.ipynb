{
 "cells": [
  {
   "cell_type": "code",
   "execution_count": 7,
   "metadata": {},
   "outputs": [],
   "source": [
    "void exercicio4()\n",
    "{\n",
    "auto c = new TCanvas(\"c\",\"c\");//criando o canvas\n",
    "TFile *f1 = new TFile(\"tree.root\");//definindo TFile\n",
    "TTree *mytree =(TTree *)f1->Get(\"tree1\");//Pegando a Ttree do TFile\n",
    "TCut* corte1 = new TCut(\"ebeam>150.2\");//Definindo corte numero 1\n",
    "TCut* corte2 = new TCut(\"ebeam<149.8\");//Definindo corte numero 2\n",
    "mytree->Draw(\"sqrt(px*px+py*py+pz*pz)\",*corte1||*corte2); //Desenhando a distribuição com valores de energia do feixe que estejam F O R A do valor médio em mais de 0,2 como foi pedido no exercício\n",
    "c->SaveAs(\"canvas.png\");//Não ficou claro qual tipo de arquivo que era para salvar, portanto está salvando como uma imagem\n",
    "}"
   ]
  },
  {
   "cell_type": "code",
   "execution_count": null,
   "metadata": {},
   "outputs": [],
   "source": []
  }
 ],
 "metadata": {
  "kernelspec": {
   "display_name": "ROOT C++",
   "language": "c++",
   "name": "root"
  },
  "language_info": {
   "codemirror_mode": "text/x-c++src",
   "file_extension": ".C",
   "mimetype": " text/x-c++src",
   "name": "c++"
  }
 },
 "nbformat": 4,
 "nbformat_minor": 4
}
